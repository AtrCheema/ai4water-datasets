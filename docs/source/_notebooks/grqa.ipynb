{
  "cells": [
    {
      "cell_type": "code",
      "execution_count": null,
      "metadata": {
        "collapsed": false
      },
      "outputs": [],
      "source": [
        "%matplotlib inline"
      ]
    },
    {
      "cell_type": "markdown",
      "metadata": {},
      "source": [
        "\n# GRQA\n"
      ]
    },
    {
      "cell_type": "code",
      "execution_count": null,
      "metadata": {
        "collapsed": false
      },
      "outputs": [],
      "source": [
        "import ai4water\nfrom easy_mpl import plot\nimport matplotlib.pyplot as plt\nfrom ai4water.datasets import GRQA\n\nprint(ai4water.__version__)"
      ]
    },
    {
      "cell_type": "code",
      "execution_count": null,
      "metadata": {
        "collapsed": false
      },
      "outputs": [],
      "source": [
        "ds = GRQA(path=\"F:\\\\data\\\\GRQA\")"
      ]
    },
    {
      "cell_type": "code",
      "execution_count": null,
      "metadata": {
        "collapsed": false
      },
      "outputs": [],
      "source": [
        "print(ds.parameters)"
      ]
    },
    {
      "cell_type": "code",
      "execution_count": null,
      "metadata": {
        "collapsed": false
      },
      "outputs": [],
      "source": [
        "country = \"Pakistan\"\nlen(ds.fetch_parameter('TEMP', country=country))"
      ]
    },
    {
      "cell_type": "code",
      "execution_count": null,
      "metadata": {
        "collapsed": false
      },
      "outputs": [],
      "source": [
        "params = []\nfor param in ds.parameters:\n    if len(ds.fetch_parameter(param, country=country))>1:\n        params.append(param)\n\nprint(params)"
      ]
    },
    {
      "cell_type": "code",
      "execution_count": null,
      "metadata": {
        "collapsed": false
      },
      "outputs": [],
      "source": [
        "df = ds.fetch_parameter(\"TEMP\", country=country)\nprint(df.shape)\nfor grp_name, grp in df.groupby('site_name'):\n    plot(grp['obs_value'], '--.', label=grp_name, show=False,\n         ax_kws=dict(figsize=(18,7)))\nplt.show()"
      ]
    },
    {
      "cell_type": "code",
      "execution_count": null,
      "metadata": {
        "collapsed": false
      },
      "outputs": [],
      "source": [
        "df = ds.fetch_parameter(\"NH4N\", country=country)\nprint(df.shape)\nfor grp_name, grp in df.groupby('site_name'):\n    plot(grp['obs_value'], '--.', label=grp_name, show=False,\n         ax_kws=dict(figsize=(18,7)))\nplt.show()"
      ]
    },
    {
      "cell_type": "code",
      "execution_count": null,
      "metadata": {
        "collapsed": false
      },
      "outputs": [],
      "source": [
        "df = ds.fetch_parameter(\"DO\", country=country)\nprint(df.shape)\nfor grp_name, grp in df.groupby('site_name'):\n    plot(grp['obs_value'], '--.', label=grp_name, show=False,\n         ax_kws=dict(figsize=(18,7)))\nplt.show()"
      ]
    },
    {
      "cell_type": "code",
      "execution_count": null,
      "metadata": {
        "collapsed": false
      },
      "outputs": [],
      "source": [
        "df = ds.fetch_parameter(\"COD\", country=country)\nprint(df.shape)\nfor grp_name, grp in df.groupby('site_name'):\n    plot(grp['obs_value'], '--.', label=grp_name, show=False,\n         ax_kws=dict(figsize=(18,7)))\nplt.show()"
      ]
    },
    {
      "cell_type": "code",
      "execution_count": null,
      "metadata": {
        "collapsed": false
      },
      "outputs": [],
      "source": [
        "df = ds.fetch_parameter(\"BOD\", country=country)\nprint(df.shape)\nfor grp_name, grp in df.groupby('site_name'):\n    plot(grp['obs_value'], '--.', label=grp_name, show=False,\n         ax_kws=dict(figsize=(18,7)))\nplt.show()"
      ]
    },
    {
      "cell_type": "code",
      "execution_count": null,
      "metadata": {
        "collapsed": false
      },
      "outputs": [],
      "source": [
        "df = ds.fetch_parameter(\"DON\", country=country)\nprint(df.shape)\nfor grp_name, grp in df.groupby('site_name'):\n    plot(grp['obs_value'], '--.', label=grp_name, show=False,\n         ax_kws=dict(figsize=(18,7)))\nplt.show()"
      ]
    },
    {
      "cell_type": "code",
      "execution_count": null,
      "metadata": {
        "collapsed": false
      },
      "outputs": [],
      "source": [
        "df = ds.fetch_parameter(\"DOSAT\", country=country)\nprint(df.shape)\nfor grp_name, grp in df.groupby('site_name'):\n    plot(grp['obs_value'], '--.', label=grp_name, show=False,\n         ax_kws=dict(figsize=(18,7)))\nplt.show()"
      ]
    },
    {
      "cell_type": "code",
      "execution_count": null,
      "metadata": {
        "collapsed": false
      },
      "outputs": [],
      "source": [
        "df = ds.fetch_parameter(\"TDP\", country=country)\nprint(df.shape)\nfor grp_name, grp in df.groupby('site_name'):\n    plot(grp['obs_value'], '--.', label=grp_name, show=False,\n         ax_kws=dict(figsize=(18,7)))\nplt.show()"
      ]
    },
    {
      "cell_type": "code",
      "execution_count": null,
      "metadata": {
        "collapsed": false
      },
      "outputs": [],
      "source": [
        "df = ds.fetch_parameter(\"TKN\", country=country)\nprint(df.shape)\nfor grp_name, grp in df.groupby('site_name'):\n    plot(grp['obs_value'], '--.', label=grp_name, show=False,\n         ax_kws=dict(figsize=(18,7)))\nplt.show()"
      ]
    },
    {
      "cell_type": "code",
      "execution_count": null,
      "metadata": {
        "collapsed": false
      },
      "outputs": [],
      "source": [
        "df = ds.fetch_parameter(\"TSS\", country=country)\nprint(df.shape)\nfor grp_name, grp in df.groupby('site_name'):\n    plot(grp['obs_value'], '--.', label=grp_name, show=False,\n         ax_kws=dict(figsize=(18,7)))\nplt.show()"
      ]
    },
    {
      "cell_type": "code",
      "execution_count": null,
      "metadata": {
        "collapsed": false
      },
      "outputs": [],
      "source": [
        "df = ds.fetch_parameter(\"TP\", country=country)\nprint(df.shape)\nfor grp_name, grp in df.groupby('site_name'):\n    plot(grp['obs_value'], '--.', label=grp_name, show=False,\n         ax_kws=dict(figsize=(18,7)))\nplt.show()"
      ]
    },
    {
      "cell_type": "code",
      "execution_count": null,
      "metadata": {
        "collapsed": false
      },
      "outputs": [],
      "source": [
        "df = ds.fetch_parameter(\"pH\", country=country)\nprint(df.shape)\nfor grp_name, grp in df.groupby('site_name'):\n    plot(grp['obs_value'], '--.', label=grp_name, show=False,\n         ax_kws=dict(figsize=(18,7)))\nplt.show()"
      ]
    }
  ],
  "metadata": {
    "kernelspec": {
      "display_name": "Python 3",
      "language": "python",
      "name": "python3"
    },
    "language_info": {
      "codemirror_mode": {
        "name": "ipython",
        "version": 3
      },
      "file_extension": ".py",
      "mimetype": "text/x-python",
      "name": "python",
      "nbconvert_exporter": "python",
      "pygments_lexer": "ipython3",
      "version": "3.8.12"
    }
  },
  "nbformat": 4,
  "nbformat_minor": 0
}